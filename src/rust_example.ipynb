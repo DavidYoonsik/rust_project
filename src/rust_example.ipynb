{
 "cells": [
  {
   "cell_type": "code",
   "execution_count": 3,
   "id": "4352570e",
   "metadata": {
    "vscode": {
     "languageId": "rust"
    }
   },
   "outputs": [
    {
     "name": "stdout",
     "output_type": "stream",
     "text": [
      "hello world!\n"
     ]
    }
   ],
   "source": [
    "fn main() {\n",
    "    println!(\"hello world!\");\n",
    "}\n",
    "\n",
    "main();"
   ]
  },
  {
   "cell_type": "code",
   "execution_count": 4,
   "id": "f600e78f",
   "metadata": {
    "vscode": {
     "languageId": "rust"
    }
   },
   "outputs": [],
   "source": [
    "fn get_message() -> String {\n",
    "    let a = String::from(\"hello rust!\");\n",
    "    a\n",
    "}"
   ]
  },
  {
   "cell_type": "code",
   "execution_count": 8,
   "id": "e6161523",
   "metadata": {
    "vscode": {
     "languageId": "rust"
    }
   },
   "outputs": [
    {
     "name": "stdout",
     "output_type": "stream",
     "text": [
      "hello rust!\n"
     ]
    }
   ],
   "source": [
    "fn main() {\n",
    "    let a = get_message();\n",
    "    println!(\"{}\", a);\n",
    "}\n",
    "\n",
    "main();"
   ]
  },
  {
   "cell_type": "code",
   "execution_count": 12,
   "id": "f6c97fa0",
   "metadata": {
    "vscode": {
     "languageId": "rust"
    }
   },
   "outputs": [
    {
     "name": "stdout",
     "output_type": "stream",
     "text": [
      "\"hello rust!\"\n"
     ]
    }
   ],
   "source": [
    "// 가변참조자\n",
    "// 함수의 인자로 가변참조자를 전달하면 해당 값을 변경 후 기존 소유자가 확인했을 때 변경된 값을 볼 수 있음\n",
    "\n",
    "fn add_quote(msg: &mut String) {\n",
    "    msg.insert(0, '\"');\n",
    "    msg.push('\"');    \n",
    "}\n",
    "\n",
    "fn main() {\n",
    "    let mut msg = String::from(\"hello rust!\");\n",
    "    add_quote(&mut msg);\n",
    "    println!(\"{}\", msg);\n",
    "}\n",
    "\n",
    "main();\n"
   ]
  },
  {
   "cell_type": "code",
   "execution_count": null,
   "id": "fbc9db53",
   "metadata": {
    "vscode": {
     "languageId": "rust"
    }
   },
   "outputs": [],
   "source": []
  }
 ],
 "metadata": {
  "kernelspec": {
   "display_name": "Rust",
   "language": "rust",
   "name": "rust"
  },
  "language_info": {
   "codemirror_mode": "rust",
   "file_extension": ".rs",
   "mimetype": "text/rust",
   "name": "Rust",
   "pygment_lexer": "rust",
   "version": ""
  }
 },
 "nbformat": 4,
 "nbformat_minor": 5
}
