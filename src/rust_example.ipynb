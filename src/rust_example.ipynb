{
 "cells": [
  {
   "cell_type": "code",
   "execution_count": 3,
   "id": "4352570e",
   "metadata": {
    "vscode": {
     "languageId": "rust"
    }
   },
   "outputs": [
    {
     "name": "stdout",
     "output_type": "stream",
     "text": [
      "hello world!\n"
     ]
    }
   ],
   "source": [
    "fn main() {\n",
    "    println!(\"hello world!\");\n",
    "}\n",
    "\n",
    "main();"
   ]
  },
  {
   "cell_type": "code",
   "execution_count": 4,
   "id": "f600e78f",
   "metadata": {
    "vscode": {
     "languageId": "rust"
    }
   },
   "outputs": [],
   "source": [
    "fn get_message() -> String {\n",
    "    let a = String::from(\"hello rust!\");\n",
    "    a\n",
    "}"
   ]
  },
  {
   "cell_type": "code",
   "execution_count": 8,
   "id": "e6161523",
   "metadata": {
    "vscode": {
     "languageId": "rust"
    }
   },
   "outputs": [
    {
     "name": "stdout",
     "output_type": "stream",
     "text": [
      "hello rust!\n"
     ]
    }
   ],
   "source": [
    "fn main() {\n",
    "    let a = get_message();\n",
    "    println!(\"{}\", a);\n",
    "}\n",
    "\n",
    "main();"
   ]
  },
  {
   "cell_type": "code",
   "execution_count": 12,
   "id": "f6c97fa0",
   "metadata": {
    "vscode": {
     "languageId": "rust"
    }
   },
   "outputs": [
    {
     "name": "stdout",
     "output_type": "stream",
     "text": [
      "\"hello rust!\"\n"
     ]
    }
   ],
   "source": [
    "// 가변참조자\n",
    "// 함수의 인자로 가변참조자를 전달하면 해당 값을 변경 후 기존 소유자가 확인했을 때 변경된 값을 볼 수 있음\n",
    "\n",
    "fn add_quote(msg: &mut String) {\n",
    "    msg.insert(0, '\"');\n",
    "    msg.push('\"');    \n",
    "}\n",
    "\n",
    "fn main() {\n",
    "    let mut msg = String::from(\"hello rust!\");\n",
    "    add_quote(&mut msg);\n",
    "    println!(\"{}\", msg);\n",
    "}\n",
    "\n",
    "main();\n"
   ]
  },
  {
   "cell_type": "code",
   "execution_count": 14,
   "id": "fbc9db53",
   "metadata": {
    "vscode": {
     "languageId": "rust"
    }
   },
   "outputs": [
    {
     "name": "stdout",
     "output_type": "stream",
     "text": [
      "156\n"
     ]
    }
   ],
   "source": [
    "// 함수를 통해서 인수(가변인수) 를 변경하고 싶을 때\n",
    "\n",
    "fn re_assign_value(arg: &mut i32) {\n",
    "    *arg = *arg * 12;\n",
    "}\n",
    "\n",
    "fn main() {\n",
    "    let mut x = 13;\n",
    "    re_assign_value(&mut x);\n",
    "    println!(\"{}\", x);\n",
    "}\n",
    "\n",
    "main();"
   ]
  },
  {
   "cell_type": "code",
   "execution_count": 20,
   "id": "e1dab962",
   "metadata": {
    "vscode": {
     "languageId": "rust"
    }
   },
   "outputs": [
    {
     "name": "stdout",
     "output_type": "stream",
     "text": [
      "Item(\"바나나\", 200)\n"
     ]
    },
    {
     "name": "stdout",
     "output_type": "stream",
     "text": [
      "Item(\"사과\", 300)\n",
      "Item(\"망고\", 400)\n",
      "합계는 900 원 입니다.\n"
     ]
    }
   ],
   "source": [
    "// TUPLE\n",
    "\n",
    "#[derive(Debug)]\n",
    "struct Item(\n",
    "    String,\n",
    "    i64,\n",
    ");\n",
    "\n",
    "fn print_tuple(item: &Item) { // Item 가변인수를 받아옴\n",
    "    println!(\"{:?}\", item);\n",
    "}\n",
    "\n",
    "fn print_and_sum_of_items(items: &Vec<Item>) -> i64 {\n",
    "    let mut total = 0;\n",
    "\n",
    "    for item in items {\n",
    "        print_tuple(&item);\n",
    "        total += item.1;\n",
    "    }\n",
    "\n",
    "    total\n",
    "}\n",
    "\n",
    "fn main() {\n",
    "    let mut x = Item(\"바나나\".to_string(), 200);\n",
    "    let mut y = Item(\"사과\".to_string(), 300);\n",
    "    let mut z = Item(String::from(\"망고\"), 400);\n",
    "\n",
    "    let items = vec![x, y, z];\n",
    "\n",
    "    let total = print_and_sum_of_items(&items);\n",
    "    println!(\"합계는 {} 원 입니다.\", total);\n",
    "}\n",
    "\n",
    "main();"
   ]
  },
  {
   "cell_type": "code",
   "execution_count": null,
   "id": "271a0581",
   "metadata": {
    "vscode": {
     "languageId": "rust"
    }
   },
   "outputs": [],
   "source": []
  }
 ],
 "metadata": {
  "kernelspec": {
   "display_name": "Rust",
   "language": "rust",
   "name": "rust"
  },
  "language_info": {
   "codemirror_mode": "rust",
   "file_extension": ".rs",
   "mimetype": "text/rust",
   "name": "Rust",
   "pygment_lexer": "rust",
   "version": ""
  }
 },
 "nbformat": 4,
 "nbformat_minor": 5
}
